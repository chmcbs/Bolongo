{
 "cells": [
  {
   "cell_type": "markdown",
   "id": "9de750ba",
   "metadata": {},
   "source": [
    "# Inspect Training Data Generator Logic"
   ]
  },
  {
   "cell_type": "markdown",
   "id": "4ed761ac",
   "metadata": {},
   "source": [
    "### Import"
   ]
  },
  {
   "cell_type": "code",
   "execution_count": 1,
   "id": "2a256b4c",
   "metadata": {},
   "outputs": [],
   "source": [
    "import sys\n",
    "sys.path.append('source')\n",
    "from training_data_generator import TrainingDataGenerator"
   ]
  },
  {
   "cell_type": "markdown",
   "id": "0d2c9962",
   "metadata": {},
   "source": [
    "### Initialise"
   ]
  },
  {
   "cell_type": "code",
   "execution_count": 2,
   "id": "e10deb14",
   "metadata": {},
   "outputs": [],
   "source": [
    "generator = TrainingDataGenerator(\n",
    "    'question_bank.md',\n",
    "    'data/trees_df.csv',\n",
    "    'data/patches_df.csv'\n",
    ")"
   ]
  },
  {
   "cell_type": "markdown",
   "id": "cac5ff57",
   "metadata": {},
   "source": [
    "### Load Data"
   ]
  },
  {
   "cell_type": "code",
   "execution_count": 3,
   "id": "a9a47def",
   "metadata": {},
   "outputs": [],
   "source": [
    "generator.load_data()"
   ]
  },
  {
   "cell_type": "markdown",
   "id": "1d75ad31",
   "metadata": {},
   "source": [
    "### Check Templates"
   ]
  },
  {
   "cell_type": "code",
   "execution_count": 4,
   "id": "db159e26",
   "metadata": {},
   "outputs": [
    {
     "data": {
      "text/plain": [
       "{'tree_recommendations_(generic)': {'fill_with': 'level numbers from trees_df.level_requirement',\n",
       "  'templates': ['What should I grow at level ___?',\n",
       "   'What should I plant at level ___?',\n",
       "   'Which are the best trees at level ___?']},\n",
       " 'tree_recommendations_(regular)': {'fill_with': 'level numbers from trees_df.level_requirement',\n",
       "  'templates': ['What is the best tree at level ___?',\n",
       "   'Which tree should I grow at level ___?',\n",
       "   'What tree should I plant at level ___?',\n",
       "   'What tree is best at level ___?']},\n",
       " 'tree_recommendations_(fruit)': {'fill_with': 'level numbers from trees_df.level_requirement',\n",
       "  'templates': ['What is the best fruit tree at level ___?',\n",
       "   'Which fruit tree should I grow at level ___?',\n",
       "   'What fruit tree should I plant at level ___?',\n",
       "   'What fruit tree is best at level ___?']},\n",
       " 'level_requirements': {'fill_with': 'tree names from trees_df.tree_name',\n",
       "  'templates': ['What level do I need for ___ trees?',\n",
       "   'What level do I need to plant ___?',\n",
       "   'What level is needed to grow ___ trees?',\n",
       "   'What level is required for ___?',\n",
       "   'What level is required for growing ___ trees?',\n",
       "   'What is the level requirement for ___?',\n",
       "   'What farming level do I need for ___ trees?',\n",
       "   'At what level can I plant ___?']},\n",
       " 'quest_requirements': {'fill_with': 'patch names from patches_df.location_simple',\n",
       "  'templates': ['Which quests are required to use the ___ patch?',\n",
       "   'What quest is needed for the ___ patch?',\n",
       "   'Which quests are recommended for the ___ patch?']},\n",
       " 'payment': {'fill_with': 'tree names from trees_df.tree_name',\n",
       "  'templates': ['What payment is needed for ___ trees?',\n",
       "   'What do I pay the farmer to protect ___?',\n",
       "   'What item does the farmer need for ___ trees?',\n",
       "   'What should I give the farmer for ___?',\n",
       "   'How do I protect ___ trees?',\n",
       "   'What is the protection payment for ___?']},\n",
       " 'growth_time': {'fill_with': 'tree names from trees_df.tree_name',\n",
       "  'templates': ['How long does ___ take to grow?',\n",
       "   'How long do ___ trees take to grow?',\n",
       "   'How long until ___ is fully grown?',\n",
       "   'When will ___ trees be ready?',\n",
       "   'How much time does ___ need to grow?']},\n",
       " 'patches_(generic)': {'fill_with': 'static values [\"normal trees\", \"regular trees\", \"fruit trees\"]',\n",
       "  'templates': ['Where can I grow ___?',\n",
       "   'What patches can I use for ___?',\n",
       "   'Which patches are for ___?',\n",
       "   'Where should I plant ___?',\n",
       "   'Where do I plant ___?']},\n",
       " 'patches_(specific)': {'fill_with': 'tree names from trees_df.tree_name',\n",
       "  'templates': ['Where can I grow ___ trees?',\n",
       "   'Which patches can I use for growing ___?',\n",
       "   'Where should I plant ___ trees?']},\n",
       " 'transportation': {'fill_with': 'location names from patches_df.location_simple',\n",
       "  'templates': ['How do I get to the ___ patch?',\n",
       "   'How can I teleport to the ___ patch?',\n",
       "   'What is the fastest way to the ___ patch?',\n",
       "   'What is the nearest teleport to the ___ patch?',\n",
       "   'How should I travel to patch in ___?']}}"
      ]
     },
     "execution_count": 4,
     "metadata": {},
     "output_type": "execute_result"
    }
   ],
   "source": [
    "generator.parse_question_bank()"
   ]
  },
  {
   "cell_type": "markdown",
   "id": "58e8d19b",
   "metadata": {},
   "source": [
    "### Check Fill Values"
   ]
  },
  {
   "cell_type": "code",
   "execution_count": 5,
   "id": "f3d3cad8",
   "metadata": {},
   "outputs": [
    {
     "name": "stdout",
     "output_type": "stream",
     "text": [
      "['15', '27', '30', '33', '39', '42', '45', '51', '57', '60', '68', '75', '81']\n",
      "['oak', 'willow', 'maple', 'yew', 'magic', 'apple', 'banana', 'orange', 'curry', 'pineapple', 'papaya', 'palm', 'dragonfruit']\n",
      "['lumbridge', 'varrock', 'falador', 'taverley', 'gnome stronghold', 'farming guild', 'nemus retreat', 'gnome stronghold', 'catherby', 'tree gnome village', 'brimhaven', 'lletya', 'farming guild', 'kastori']\n"
     ]
    }
   ],
   "source": [
    "print(generator.get_fill_values('level numbers'))\n",
    "print(generator.get_fill_values('tree names'))\n",
    "print(generator.get_fill_values('patch names'))"
   ]
  },
  {
   "cell_type": "markdown",
   "id": "9b42b363",
   "metadata": {},
   "source": [
    "# Generate Training Data"
   ]
  },
  {
   "cell_type": "code",
   "execution_count": 7,
   "id": "3bb413dd",
   "metadata": {},
   "outputs": [],
   "source": [
    "import pandas as pd\n",
    "df = generator.generate_dataset()"
   ]
  }
 ],
 "metadata": {
  "kernelspec": {
   "display_name": "sap",
   "language": "python",
   "name": "python3"
  },
  "language_info": {
   "codemirror_mode": {
    "name": "ipython",
    "version": 3
   },
   "file_extension": ".py",
   "mimetype": "text/x-python",
   "name": "python",
   "nbconvert_exporter": "python",
   "pygments_lexer": "ipython3",
   "version": "3.11.13"
  }
 },
 "nbformat": 4,
 "nbformat_minor": 5
}
