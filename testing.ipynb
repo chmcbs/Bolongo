{
 "cells": [
  {
   "cell_type": "markdown",
   "id": "9de750ba",
   "metadata": {},
   "source": [
    "# Inspect Data Processing Logic"
   ]
  },
  {
   "cell_type": "markdown",
   "id": "4ed761ac",
   "metadata": {},
   "source": [
    "### Import"
   ]
  },
  {
   "cell_type": "code",
   "execution_count": 1,
   "id": "2a256b4c",
   "metadata": {},
   "outputs": [],
   "source": [
    "import sys\n",
    "sys.path.append('source')\n",
    "from data_processor import DataProcessor"
   ]
  },
  {
   "cell_type": "markdown",
   "id": "0d2c9962",
   "metadata": {},
   "source": [
    "### Initialise"
   ]
  },
  {
   "cell_type": "code",
   "execution_count": 2,
   "id": "e10deb14",
   "metadata": {},
   "outputs": [],
   "source": [
    "processor = DataProcessor(\n",
    "    'question_bank.md',\n",
    "    'data/trees_df.csv',\n",
    "    'data/patches_df.csv'\n",
    ")"
   ]
  },
  {
   "cell_type": "code",
   "execution_count": 3,
   "id": "a9a47def",
   "metadata": {},
   "outputs": [],
   "source": [
    "processor.load_data()"
   ]
  },
  {
   "cell_type": "markdown",
   "id": "1d75ad31",
   "metadata": {},
   "source": [
    "### Parse Questions"
   ]
  },
  {
   "cell_type": "code",
   "execution_count": 4,
   "id": "db159e26",
   "metadata": {},
   "outputs": [
    {
     "data": {
      "text/plain": [
       "{'level_requirement': ['(What / Which) is the best tree (to grow / to plant / to choose) at level ___?',\n",
       "  '(What / Which) are the best trees (to grow / to plant / to choose) at level ___?',\n",
       "  '(What / Which) (should I / could I / do I / can I) (grow / plant / choose) at level ___?',\n",
       "  '(What / Which) tree is the best (to grow / to plant / to choose) at level ___?',\n",
       "  '(What / Which) trees are best (to grow / to plant / to choose) at level ___?',\n",
       "  '(What / Which) trees are the best (to grow / to plant / to choose) at level ___?',\n",
       "  '(What / Which) tree(s) (should I / could I / do I / can I) (grow / plant / choose) at level ___?',\n",
       "  '(What / Which) level (do I need / is needed / is required) to (grow / plant) ___?',\n",
       "  '(What / Which) level (do I need / is needed / is required) for (growing / planting) ___?',\n",
       "  'What is the level (requirement / required / needed) to (grow / plant) ___?',\n",
       "  'What is the level (requirement / required / needed) for (growing / planting) ___?',\n",
       "  'What is (required / the required level) for (growing / planting) ___?',\n",
       "  'What is (required / the required level) to (grow / plant) ___?',\n",
       "  'What level (are / is) ___?',\n",
       "  'What do I need to (grow / plant) ___?',\n",
       "  'What do I need for (growing / planting) ___?'],\n",
       " 'payment': ['(What / Which) (item / payment / gift) is (required / needed) to (grow / plant) ___?',\n",
       "  '(What / Which) (item / payment / gift) is (required / needed) for (growing / planting) ___?',\n",
       "  '(What / Which) (item / payment / gift) do I need (to give to the farmer) to (grow / plant) ___?',\n",
       "  '(What / Which) (item / payment / gift) (should / do) I (give / give to the farmer) to (grow / plant) ___?',\n",
       "  '(What / Which) (item / payment / gift) (does / do) ___ (need / require)?',\n",
       "  '(What / Which) (item / payment / gift) (does the farmer / do farmers) (need / require) to (grow / plant) ___?',\n",
       "  '(What / Which) (item / payment / gift) (does the farmer / do farmers) (need / require) for (growing / planting) ___?'],\n",
       " 'growth_time': ['How long (do / does) ___ take to grow?',\n",
       "  'How long do I have to wait for ___?',\n",
       "  'How long does it take to grow (an / a) ___?',\n",
       "  'How long does it take for (an / a) ___ to grow?',\n",
       "  'When will (my / a / an) ___ be (fully grown / finished)?',\n",
       "  'How long until ___ are (fully grown / finished)?'],\n",
       " 'patches': ['(Which / What) (quest / skill) is (required / needed / recommended) for the ___ patch?',\n",
       "  '(Which / What) (quests / skills) are (required / needed / recommended) for the ___ patch?',\n",
       "  '(Which / What) (quest / skill) is (required / needed / recommended) for ___?',\n",
       "  '(Which / What) (quest / skill) are (required / needed / recommended) for ___?',\n",
       "  '(Which / What) (quest / skill) do I need (to access / for) the ___ patch?',\n",
       "  '(Which / What) (quests / skills) do I need (to access / for) the ___ patch?',\n",
       "  '(Which / What) (quest / skill) do I need (to access / for) ___?',\n",
       "  '(Which / What) (quests / skills) do I need (to access / for) ___?',\n",
       "  '(Where / Which / What) are (all) the (best) ___ patches?',\n",
       "  'Where (can / do / should) I (grow / plant) ___?',\n",
       "  'Give me a list of all (of the) ___ patches.',\n",
       "  'List all (of the) ___ patches.'],\n",
       " 'transportation': ['How (do / should / can) I (get / travel / teleport) to ___?',\n",
       "  '(What / Which / Where) is the (nearest / closest) teleport to ___?',\n",
       "  '(What / Which) is the (fastest / quickest) (way / method) to (get / teleport / travel) to ___?']}"
      ]
     },
     "execution_count": 4,
     "metadata": {},
     "output_type": "execute_result"
    }
   ],
   "source": [
    "intents = processor.parse_question_bank()\n",
    "intents"
   ]
  },
  {
   "cell_type": "code",
   "execution_count": 5,
   "id": "be15c268",
   "metadata": {},
   "outputs": [
    {
     "data": {
      "text/plain": [
       "['level_requirement', 'payment', 'growth_time', 'patches', 'transportation']"
      ]
     },
     "execution_count": 5,
     "metadata": {},
     "output_type": "execute_result"
    }
   ],
   "source": [
    "intents_list = list(intents)\n",
    "intents_list"
   ]
  },
  {
   "cell_type": "code",
   "execution_count": 6,
   "id": "bbead636",
   "metadata": {},
   "outputs": [
    {
     "data": {
      "text/plain": [
       "'level_requirement'"
      ]
     },
     "execution_count": 6,
     "metadata": {},
     "output_type": "execute_result"
    }
   ],
   "source": [
    "intent = intents_list[0]\n",
    "intent"
   ]
  },
  {
   "cell_type": "code",
   "execution_count": 7,
   "id": "30402a85",
   "metadata": {},
   "outputs": [
    {
     "data": {
      "text/plain": [
       "'(What / Which) is the best tree (to grow / to plant / to choose) at level ___?'"
      ]
     },
     "execution_count": 7,
     "metadata": {},
     "output_type": "execute_result"
    }
   ],
   "source": [
    "template = intents[intent][0]\n",
    "template"
   ]
  },
  {
   "cell_type": "markdown",
   "id": "ae9592bc",
   "metadata": {},
   "source": [
    "### Expand Template"
   ]
  },
  {
   "cell_type": "code",
   "execution_count": 8,
   "id": "817d5525",
   "metadata": {},
   "outputs": [
    {
     "data": {
      "text/plain": [
       "['What is the best tree to grow at level ___?',\n",
       " 'What is the best tree to plant at level ___?',\n",
       " 'What is the best tree to choose at level ___?',\n",
       " 'Which is the best tree to grow at level ___?',\n",
       " 'Which is the best tree to plant at level ___?',\n",
       " 'Which is the best tree to choose at level ___?']"
      ]
     },
     "execution_count": 8,
     "metadata": {},
     "output_type": "execute_result"
    }
   ],
   "source": [
    "expanded_list = processor.expand_template(template)\n",
    "expanded_list"
   ]
  },
  {
   "cell_type": "code",
   "execution_count": 9,
   "id": "9f2a5cfe",
   "metadata": {},
   "outputs": [
    {
     "data": {
      "text/plain": [
       "'What is the best tree to grow at level ___?'"
      ]
     },
     "execution_count": 9,
     "metadata": {},
     "output_type": "execute_result"
    }
   ],
   "source": [
    "expanded = expanded_list[0]\n",
    "expanded"
   ]
  },
  {
   "cell_type": "markdown",
   "id": "40b0aa03",
   "metadata": {},
   "source": [
    "### Fill Template"
   ]
  },
  {
   "cell_type": "code",
   "execution_count": 10,
   "id": "0974f3a4",
   "metadata": {},
   "outputs": [
    {
     "data": {
      "text/plain": [
       "['What is the best tree to grow at level 15?',\n",
       " 'What is the best tree to grow at level 30?',\n",
       " 'What is the best tree to grow at level 45?',\n",
       " 'What is the best tree to grow at level 60?',\n",
       " 'What is the best tree to grow at level 75?',\n",
       " 'What is the best tree to grow at level 27?',\n",
       " 'What is the best tree to grow at level 33?',\n",
       " 'What is the best tree to grow at level 39?',\n",
       " 'What is the best tree to grow at level 42?',\n",
       " 'What is the best tree to grow at level 51?',\n",
       " 'What is the best tree to grow at level 57?',\n",
       " 'What is the best tree to grow at level 68?',\n",
       " 'What is the best tree to grow at level 81?']"
      ]
     },
     "execution_count": 10,
     "metadata": {},
     "output_type": "execute_result"
    }
   ],
   "source": [
    "filled = processor.fill_template(expanded, intent)\n",
    "filled"
   ]
  },
  {
   "cell_type": "markdown",
   "id": "9a18cc88",
   "metadata": {},
   "source": [
    "# Preview Training Data"
   ]
  },
  {
   "cell_type": "code",
   "execution_count": 11,
   "id": "17f00e03",
   "metadata": {},
   "outputs": [
    {
     "name": "stdout",
     "output_type": "stream",
     "text": [
      "What level do I need to grow palm?\n",
      "What is the level needed to plant apple?\n",
      "What level do I need to grow oak?\n",
      "What tree is the best to grow at level 15?\n",
      "What level are banana?\n",
      "What should I choose at level 51?\n",
      "Which trees should I plant at level 57?\n",
      "Which trees do I plant at level 81?\n",
      "What trees can I choose at level 33?\n",
      "What trees could I plant at level 30?\n",
      "What is required to grow yew?\n",
      "What do I need to grow yew?\n",
      "Which trees could I grow at level 51?\n",
      "What level are curry?\n",
      "What can I plant at level 60?\n",
      "What is the best tree to grow at level 57?\n",
      "What trees are the best to grow at level 57?\n",
      "What should I plant at level 15?\n",
      "Which trees should I grow at level 75?\n",
      "Which are the best trees to choose at level 39?\n",
      "Which item does the farmer need for growing dragonfruit?\n",
      "What payment do I give to the farmer to grow willow?\n",
      "Which gift should I give to grow orange?\n",
      "What gift does the farmer require for growing pineapple?\n",
      "What gift do farmers need to plant curry?\n",
      "What item does the farmer require for planting willow?\n",
      "Which gift do farmers require to plant willow?\n",
      "Which item do farmers require for growing palm?\n",
      "Which item does the farmer require to grow maple?\n",
      "What payment does the farmer need for growing curry?\n",
      "Which item does the farmer require to plant magic?\n",
      "What payment should I give to the farmer to plant palm?\n",
      "What payment do I give to the farmer to plant papaya?\n",
      "What item does the farmer need to plant apple?\n",
      "What payment does the farmer need for growing maple?\n",
      "What gift is required for planting yew?\n",
      "Which gift do farmers need for growing apple?\n",
      "What item do I give to the farmer to plant palm?\n",
      "Which payment do farmers need to plant dragonfruit?\n",
      "Which item do farmers need to grow pineapple?\n",
      "When will my banana be finished?\n",
      "When will a apple be fully grown?\n",
      "How long does dragonfruit take to grow?\n",
      "How long does it take to grow a dragonfruit?\n",
      "When will a banana be finished?\n",
      "How long until banana are fully grown?\n",
      "How long until dragonfruit are fully grown?\n",
      "When will my yew be fully grown?\n",
      "How long does it take for an curry to grow?\n",
      "How long do apple take to grow?\n",
      "How long does it take for a willow to grow?\n",
      "When will a papaya be fully grown?\n",
      "When will an palm be finished?\n",
      "How long does maple take to grow?\n",
      "When will an apple be fully grown?\n",
      "When will a dragonfruit be fully grown?\n",
      "How long do papaya take to grow?\n",
      "How long do I have to wait for banana?\n",
      "How long do I have to wait for orange?\n",
      "How long do I have to wait for oak?\n",
      "Which quests do I need to access the tree patch?\n",
      "What quest is recommended for the gnome stronghold patch?\n",
      "Which skills do I need for fruit tree?\n",
      "What skills do I need to access the gnome stronghold patch?\n",
      "Which skills are needed for the taverley patch?\n",
      "Which skill do I need to access gnome stronghold?\n",
      "What quest do I need for lumbridge?\n",
      "Which quests do I need for the falador patch?\n",
      "What skills do I need to access falador?\n",
      "What quest are required for tree gnome village?\n",
      "Where should I plant catherby?\n",
      "Where do I grow falador?\n",
      "Where do I grow kastori?\n",
      "Where should I grow fruit tree?\n",
      "Which quests do I need for tree?\n",
      "Which skills do I need to access the kastori patch?\n",
      "Which skills do I need for taverley?\n",
      "Which quests are required for the gnome stronghold patch?\n",
      "What quest is required for farming guild?\n",
      "What skill is required for the catherby patch?\n",
      "What is the nearest teleport to lletya?\n",
      "Which is the quickest way to teleport to in the northwest corner?\n",
      "What is the fastest method to teleport to falador?\n",
      "What is the quickest method to travel to on the east side of the beach?\n",
      "What is the fastest way to get to taverley?\n",
      "Which is the fastest method to travel to kastori?\n",
      "Which is the quickest way to get to on the east side of the beach?\n",
      "What is the closest teleport to next to the entrance gate?\n",
      "Which is the closest teleport to falador?\n",
      "What is the quickest method to travel to gnome stronghold?\n",
      "Which is the quickest way to travel to falador?\n",
      "Which is the fastest method to teleport to falador?\n",
      "How can I get to kastori?\n",
      "Which is the quickest method to teleport to lletya?\n",
      "Which is the quickest way to travel to east of the spirit tree?\n",
      "How can I travel to brimhaven?\n",
      "How should I teleport to next to the entrance gate?\n",
      "How should I travel to in the north wing?\n",
      "What is the fastest way to get to in varrock castle courtyard?\n",
      "Which is the fastest way to teleport to tree gnome village?\n"
     ]
    }
   ],
   "source": [
    "texts, labels = processor.generate_training_data(20)\n",
    "print('\\n'.join(texts))"
   ]
  }
 ],
 "metadata": {
  "kernelspec": {
   "display_name": "sap",
   "language": "python",
   "name": "python3"
  },
  "language_info": {
   "codemirror_mode": {
    "name": "ipython",
    "version": 3
   },
   "file_extension": ".py",
   "mimetype": "text/x-python",
   "name": "python",
   "nbconvert_exporter": "python",
   "pygments_lexer": "ipython3",
   "version": "3.11.13"
  }
 },
 "nbformat": 4,
 "nbformat_minor": 5
}
