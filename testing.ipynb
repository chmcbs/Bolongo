{
 "cells": [
  {
   "cell_type": "markdown",
   "id": "9de750ba",
   "metadata": {},
   "source": [
    "# Inspect Training Data Generator Logic"
   ]
  },
  {
   "cell_type": "markdown",
   "id": "4ed761ac",
   "metadata": {},
   "source": [
    "### Import"
   ]
  },
  {
   "cell_type": "code",
   "execution_count": 26,
   "id": "2a256b4c",
   "metadata": {},
   "outputs": [],
   "source": [
    "import sys\n",
    "sys.path.append('source')\n",
    "from training_data_generator import TrainingDataGenerator"
   ]
  },
  {
   "cell_type": "markdown",
   "id": "0d2c9962",
   "metadata": {},
   "source": [
    "### Initialise"
   ]
  },
  {
   "cell_type": "code",
   "execution_count": 27,
   "id": "e10deb14",
   "metadata": {},
   "outputs": [],
   "source": [
    "generator = TrainingDataGenerator(\n",
    "    'question_bank.md',\n",
    "    'data/trees_df.csv',\n",
    "    'data/patches_df.csv'\n",
    ")"
   ]
  },
  {
   "cell_type": "markdown",
   "id": "cac5ff57",
   "metadata": {},
   "source": [
    "### Load Data"
   ]
  },
  {
   "cell_type": "code",
   "execution_count": 28,
   "id": "a9a47def",
   "metadata": {},
   "outputs": [],
   "source": [
    "generator.load_data()"
   ]
  },
  {
   "cell_type": "markdown",
   "id": "1d75ad31",
   "metadata": {},
   "source": [
    "### Check Templates"
   ]
  },
  {
   "cell_type": "code",
   "execution_count": 29,
   "id": "db159e26",
   "metadata": {},
   "outputs": [
    {
     "data": {
      "text/plain": [
       "{'tree_recommendations': {'fill_with': 'level numbers from trees_df.level_requirement',\n",
       "  'templates': ['What is the best tree at level ___?',\n",
       "   'Which are the best trees at level ___?',\n",
       "   'Which tree should I grow at level ___?',\n",
       "   'What tree should I plant at level ___?',\n",
       "   'What tree is best at level ___?',\n",
       "   'What should I grow at level ___?',\n",
       "   'What should I plant at level ___?']},\n",
       " 'level_requirements': {'fill_with': 'tree names from trees_df.tree_name',\n",
       "  'templates': ['What level do I need for ___ trees?',\n",
       "   'What level do I need to plant ___?',\n",
       "   'What level is needed to grow ___ trees?',\n",
       "   'What level is required for ___?',\n",
       "   'What level is required for growing ___ trees?',\n",
       "   'What is the level requirement for ___?',\n",
       "   'What farming level do I need for ___ trees?',\n",
       "   'At what level can I plant ___?']},\n",
       " 'quest_requirements': {'fill_with': 'patch names from patches_df.location_simple',\n",
       "  'templates': ['Which quests are required to use the ___ patch?',\n",
       "   'What quest is needed for the ___ patch?',\n",
       "   'Which quests are recommended for the ___ patch?']},\n",
       " 'payment': {'fill_with': 'tree names from trees_df.tree_name',\n",
       "  'templates': ['What payment is needed for ___ trees?',\n",
       "   'What do I pay the farmer to protect ___?',\n",
       "   'What item does the farmer need for ___ trees?',\n",
       "   'What should I give the farmer for ___?',\n",
       "   'How do I protect ___ trees?',\n",
       "   'What is the protection payment for ___?']},\n",
       " 'growth_time': {'fill_with': 'tree names from trees_df.tree_name',\n",
       "  'templates': ['How long does ___ take to grow?',\n",
       "   'How long do ___ trees take to grow?',\n",
       "   'How long until ___ is fully grown?',\n",
       "   'When will ___ trees be ready?',\n",
       "   'How much time does ___ need to grow?']},\n",
       " 'patches': {'fill_with': 'tree names from trees_df.tree_name',\n",
       "  'templates': ['Where can I grow ___ trees?',\n",
       "   'Which patches can I use for growing ___?',\n",
       "   'Where should I plant ___ trees?',\n",
       "   'What patches can I use for ___?',\n",
       "   'Which patches are for ___ trees?',\n",
       "   'Where do I plant ___?']},\n",
       " 'transportation': {'fill_with': 'location names from patches_df.location_simple',\n",
       "  'templates': ['How do I get to the ___ patch?',\n",
       "   'How can I teleport to the ___ patch?',\n",
       "   'What is the fastest way to the ___ patch?',\n",
       "   'What is the nearest teleport to the ___ patch?',\n",
       "   'How should I travel to patch in ___?']}}"
      ]
     },
     "execution_count": 29,
     "metadata": {},
     "output_type": "execute_result"
    }
   ],
   "source": [
    "generator.parse_question_bank()"
   ]
  },
  {
   "cell_type": "markdown",
   "id": "58e8d19b",
   "metadata": {},
   "source": [
    "### Check Fill Values"
   ]
  },
  {
   "cell_type": "code",
   "execution_count": 30,
   "id": "f3d3cad8",
   "metadata": {},
   "outputs": [
    {
     "name": "stdout",
     "output_type": "stream",
     "text": [
      "['15', '27', '30', '33', '39', '42', '45', '51', '57', '60', '68', '75', '81']\n",
      "['oak', 'willow', 'maple', 'yew', 'magic', 'apple', 'banana', 'orange', 'curry', 'pineapple', 'papaya', 'palm', 'dragonfruit']\n",
      "['lumbridge', 'varrock', 'falador', 'taverley', 'gnome stronghold', 'farming guild', 'nemus retreat', 'gnome stronghold', 'catherby', 'tree gnome village', 'brimhaven', 'lletya', 'farming guild', 'kastori']\n"
     ]
    }
   ],
   "source": [
    "print(generator.get_fill_values('level numbers'))\n",
    "print(generator.get_fill_values('tree names'))\n",
    "print(generator.get_fill_values('patch names'))"
   ]
  },
  {
   "cell_type": "markdown",
   "id": "9b42b363",
   "metadata": {},
   "source": [
    "# Generate Training Data"
   ]
  },
  {
   "cell_type": "code",
   "execution_count": 31,
   "id": "3bb413dd",
   "metadata": {},
   "outputs": [],
   "source": [
    "import pandas as pd\n",
    "df = generator.generate_dataset()"
   ]
  },
  {
   "cell_type": "markdown",
   "id": "a071f261",
   "metadata": {},
   "source": [
    "# Build Intent Classifier"
   ]
  },
  {
   "cell_type": "markdown",
   "id": "82f0c6a7",
   "metadata": {},
   "source": [
    "### Split Data"
   ]
  },
  {
   "cell_type": "code",
   "execution_count": 32,
   "id": "eca40bd0",
   "metadata": {},
   "outputs": [
    {
     "name": "stdout",
     "output_type": "stream",
     "text": [
      "Training: 409 examples\n",
      "Test: 103 examples\n"
     ]
    }
   ],
   "source": [
    "from sklearn.model_selection import train_test_split\n",
    "\n",
    "X = df['text'] # Questions\n",
    "y = df['intent'] # Intent\n",
    "\n",
    "X_train, X_test, y_train, y_test = train_test_split(X, y, test_size=0.2, random_state=42, stratify=y)\n",
    "\n",
    "print(f\"Training: {len(X_train)} examples\")\n",
    "print(f\"Test: {len(X_test)} examples\")"
   ]
  },
  {
   "cell_type": "markdown",
   "id": "90c61555",
   "metadata": {},
   "source": [
    "### Vectorisation (TF-IDF)"
   ]
  },
  {
   "cell_type": "code",
   "execution_count": 33,
   "id": "7d826cb9",
   "metadata": {},
   "outputs": [
    {
     "name": "stdout",
     "output_type": "stream",
     "text": [
      "Feature vectorisation complete.\n"
     ]
    }
   ],
   "source": [
    "from sklearn.feature_extraction.text import TfidfVectorizer\n",
    "\n",
    "vectoriser = TfidfVectorizer(\n",
    "    max_features=500, # Keep top 500 words\n",
    "    ngram_range=(1, 2), # Use single words and word pairs\n",
    "    lowercase=True\n",
    "    )\n",
    "\n",
    "X_train_tfidf = vectoriser.fit_transform(X_train)\n",
    "X_test_tfidf = vectoriser.transform(X_test)\n",
    "print(\"Feature vectorisation complete.\")"
   ]
  },
  {
   "cell_type": "markdown",
   "id": "df961565",
   "metadata": {},
   "source": [
    "### Train Model"
   ]
  },
  {
   "cell_type": "code",
   "execution_count": 34,
   "id": "94321434",
   "metadata": {},
   "outputs": [
    {
     "name": "stdout",
     "output_type": "stream",
     "text": [
      "Model training complete.\n"
     ]
    }
   ],
   "source": [
    "from sklearn.linear_model import LogisticRegression\n",
    "\n",
    "classifier = LogisticRegression(\n",
    "    max_iter=1000,\n",
    "    random_state=42\n",
    ")\n",
    "\n",
    "classifier.fit(X_train_tfidf, y_train)\n",
    "print(\"Model training complete.\")"
   ]
  },
  {
   "cell_type": "markdown",
   "id": "30ff5a81",
   "metadata": {},
   "source": [
    "### Evaluate Model Performance"
   ]
  },
  {
   "cell_type": "code",
   "execution_count": 35,
   "id": "e52b21ee",
   "metadata": {},
   "outputs": [
    {
     "name": "stdout",
     "output_type": "stream",
     "text": [
      "Accuracy: 100.00%\n",
      "\n",
      "Classification Report:\n",
      "                      precision    recall  f1-score   support\n",
      "\n",
      "         growth_time       1.00      1.00      1.00        13\n",
      "  level_requirements       1.00      1.00      1.00        21\n",
      "             patches       1.00      1.00      1.00        16\n",
      "             payment       1.00      1.00      1.00        16\n",
      "  quest_requirements       1.00      1.00      1.00         7\n",
      "      transportation       1.00      1.00      1.00        12\n",
      "tree_recommendations       1.00      1.00      1.00        18\n",
      "\n",
      "            accuracy                           1.00       103\n",
      "           macro avg       1.00      1.00      1.00       103\n",
      "        weighted avg       1.00      1.00      1.00       103\n",
      "\n"
     ]
    }
   ],
   "source": [
    "from sklearn.metrics import accuracy_score, classification_report\n",
    "\n",
    "y_pred = classifier.predict(X_test_tfidf)\n",
    "\n",
    "accuracy = accuracy_score(y_test, y_pred)\n",
    "print(f\"Accuracy: {accuracy:.2%}\")\n",
    "\n",
    "print(\"\\nClassification Report:\")\n",
    "print(classification_report(y_test, y_pred))"
   ]
  },
  {
   "cell_type": "markdown",
   "id": "44d20ae9",
   "metadata": {},
   "source": [
    "### Save Model"
   ]
  },
  {
   "cell_type": "code",
   "execution_count": 36,
   "id": "9ceba031",
   "metadata": {},
   "outputs": [
    {
     "name": "stdout",
     "output_type": "stream",
     "text": [
      "Model saving complete.\n"
     ]
    }
   ],
   "source": [
    "import joblib\n",
    "\n",
    "joblib.dump(vectoriser, 'models/vectoriser.pkl')\n",
    "joblib.dump(classifier, 'models/classifier.pkl')\n",
    "print(\"Model saving complete.\")"
   ]
  },
  {
   "cell_type": "markdown",
   "id": "9eaf8548",
   "metadata": {},
   "source": [
    "# Test Intent Classifier"
   ]
  },
  {
   "cell_type": "code",
   "execution_count": 37,
   "id": "f37df480",
   "metadata": {},
   "outputs": [
    {
     "name": "stdout",
     "output_type": "stream",
     "text": [
      "Q: What level do I need for magic trees?\n",
      "   Intent: level_requirements (confidence: 85.39%)\n",
      "\n",
      "Q: How long does yew take to grow?\n",
      "   Intent: growth_time (confidence: 81.07%)\n",
      "\n",
      "Q: What should I plant at level 45?\n",
      "   Intent: tree_recommendations (confidence: 83.33%)\n",
      "\n",
      "Q: Where can I grow apple trees?\n",
      "   Intent: patches (confidence: 72.70%)\n",
      "\n"
     ]
    }
   ],
   "source": [
    "import sys\n",
    "sys.path.append('source')\n",
    "from intent_classifier import IntentClassifier\n",
    "\n",
    "classifier = IntentClassifier(model_dir='models')\n",
    "\n",
    "test_questions = [\n",
    "    \"What level do I need for magic trees?\",\n",
    "    \"How long does yew take to grow?\",\n",
    "    \"What should I plant at level 45?\",\n",
    "    \"Where can I grow apple trees?\"\n",
    "]\n",
    "\n",
    "for question in test_questions:\n",
    "    result = classifier.predict(question)\n",
    "    print(f\"Q: {question}\")\n",
    "    print(f\"   Intent: {result['intent']} (confidence: {result['confidence']:.2%})\\n\")"
   ]
  }
 ],
 "metadata": {
  "kernelspec": {
   "display_name": "sap",
   "language": "python",
   "name": "python3"
  },
  "language_info": {
   "codemirror_mode": {
    "name": "ipython",
    "version": 3
   },
   "file_extension": ".py",
   "mimetype": "text/x-python",
   "name": "python",
   "nbconvert_exporter": "python",
   "pygments_lexer": "ipython3",
   "version": "3.11.13"
  }
 },
 "nbformat": 4,
 "nbformat_minor": 5
}
