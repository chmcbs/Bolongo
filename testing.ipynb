{
 "cells": [
  {
   "cell_type": "markdown",
   "id": "b2a33af0",
   "metadata": {},
   "source": [
    "# Generate Test Questions"
   ]
  },
  {
   "cell_type": "code",
   "execution_count": null,
   "id": "21ddd46a",
   "metadata": {},
   "outputs": [],
   "source": [
    "from training.training_data_generator import TrainingDataGenerator\n",
    "\n",
    "# Initialize training data generator\n",
    "generator = TrainingDataGenerator(\n",
    "    question_bank_path='training/question_bank.md', \n",
    "    trees_csv_path='data/trees_df.csv', \n",
    "    patches_csv_path='data/patches_df.csv'\n",
    ")\n",
    "\n",
    "# Generate training data\n",
    "df = generator.generate_dataset()\n",
    "print(f\"Generated {len(df)} training examples\")\n",
    "print(f\"\\n{df['intent'].value_counts()}\")\n",
    "\n",
    "# Extract test questions\n",
    "test_questions = df['text']"
   ]
  },
  {
   "cell_type": "markdown",
   "id": "9eaf8548",
   "metadata": {},
   "source": [
    "# Test Intent Classifier"
   ]
  },
  {
   "cell_type": "code",
   "execution_count": null,
   "id": "f37df480",
   "metadata": {},
   "outputs": [],
   "source": [
    "from source.intent_classifier import IntentClassifier\n",
    "\n",
    "# Initialize intent classifier\n",
    "classifier = IntentClassifier()\n",
    "\n",
    "# Predict intent for each question\n",
    "for question in test_questions:\n",
    "    intent, confidence = classifier.predict(question)\n",
    "    print(f'Question: {question}')\n",
    "    print(f'Intent: {intent}')\n",
    "    print(f'Confidence: {confidence}')\n",
    "    print('')"
   ]
  },
  {
   "cell_type": "markdown",
   "id": "074e31be",
   "metadata": {},
   "source": [
    "# Test Answer Retriever"
   ]
  },
  {
   "cell_type": "code",
   "execution_count": null,
   "id": "05f6a72e",
   "metadata": {},
   "outputs": [],
   "source": [
    "from source.intent_classifier import IntentClassifier\n",
    "from source.answer_retriever import AnswerRetriever\n",
    "\n",
    "# Initialize intent classifier\n",
    "classifier = IntentClassifier()\n",
    "\n",
    "# Initialize answer retriever\n",
    "retriever = AnswerRetriever()\n",
    "\n",
    "# Retrieve answer for each question\n",
    "for question in test_questions:\n",
    "    intent, confidence = classifier.predict(question)\n",
    "    result = retriever.get_answer(question, intent)\n",
    "    print(f'Question: {question}')\n",
    "    print(f'Intent: {intent}')\n",
    "    if intent == 'list_regular_patches' or intent == 'list_fruit_patches':\n",
    "        print(f'Answer: {\", \".join([p[\"location\"] for p in result[\"patches\"]])}')\n",
    "    elif intent == 'tree_recommendations':\n",
    "        print(f'Lookup: {result[\"lookup_value\"]}')\n",
    "        print(f'Regular Tree: {result[\"regular_tree\"]}')\n",
    "        print(f'Fruit Tree: {result[\"fruit_tree\"]}')\n",
    "    else:\n",
    "        print(f'Lookup: {result[\"lookup_value\"]}')\n",
    "        print(f'Answer: {result[\"answer_value\"]}')\n",
    "    print('')"
   ]
  },
  {
   "cell_type": "markdown",
   "id": "4502cd78",
   "metadata": {},
   "source": [
    "# Test Response Generator"
   ]
  },
  {
   "cell_type": "code",
   "execution_count": null,
   "id": "7007782e",
   "metadata": {},
   "outputs": [],
   "source": [
    "from source.intent_classifier import IntentClassifier\n",
    "from source.answer_retriever import AnswerRetriever\n",
    "from source.response_generator import ResponseGenerator\n",
    "\n",
    "# Initialize intent classifier\n",
    "classifier = IntentClassifier()\n",
    "\n",
    "# Initialize answer retriever\n",
    "retriever = AnswerRetriever()\n",
    "\n",
    "# Initialize response generator\n",
    "generator = ResponseGenerator()\n",
    "\n",
    "# Create response for each question\n",
    "for question in test_questions:\n",
    "    intent, confidence = classifier.predict(question)\n",
    "    result = retriever.get_answer(question, intent)\n",
    "    response = generator.generate_response(intent, result)\n",
    "    print(f'Question: {question}')\n",
    "    print(f'Response: {response}')\n",
    "    print('')"
   ]
  },
  {
   "cell_type": "markdown",
   "id": "18302039",
   "metadata": {},
   "source": [
    "# Test Orchestrator"
   ]
  },
  {
   "cell_type": "code",
   "execution_count": null,
   "id": "2fe462fc",
   "metadata": {},
   "outputs": [],
   "source": [
    "from source.orchestrator import Bolongo\n",
    "\n",
    "# Initialize Bolongo\n",
    "bolongo = Bolongo()\n",
    "\n",
    "# Ask a question\n",
    "bolongo.ask(\"Can I eat Maple trees?\")"
   ]
  }
 ],
 "metadata": {
  "kernelspec": {
   "display_name": "sap",
   "language": "python",
   "name": "python3"
  },
  "language_info": {
   "codemirror_mode": {
    "name": "ipython",
    "version": 3
   },
   "file_extension": ".py",
   "mimetype": "text/x-python",
   "name": "python",
   "nbconvert_exporter": "python",
   "pygments_lexer": "ipython3",
   "version": "3.11.13"
  }
 },
 "nbformat": 4,
 "nbformat_minor": 5
}
